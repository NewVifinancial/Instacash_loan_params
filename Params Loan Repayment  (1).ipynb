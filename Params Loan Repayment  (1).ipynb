{
 "cells": [
  {
   "cell_type": "markdown",
   "metadata": {},
   "source": [
    "# Calculating fees on loan"
   ]
  },
  {
   "cell_type": "markdown",
   "metadata": {},
   "source": [
    "Rate percentage at 10%"
   ]
  },
  {
   "cell_type": "markdown",
   "metadata": {},
   "source": [
    "Parameters:\n",
    "\n",
    "Loan Amount\n",
    "\n",
    "Interest rate\n",
    "\n",
    "Repayment Amount\n",
    "\n"
   ]
  },
  {
   "cell_type": "code",
   "execution_count": 1,
   "metadata": {
    "scrolled": true
   },
   "outputs": [],
   "source": [
    "import numpy as np\n"
   ]
  },
  {
   "cell_type": "code",
   "execution_count": 19,
   "metadata": {},
   "outputs": [
    {
     "name": "stdout",
     "output_type": "stream",
     "text": [
      "Type requested loan amount: 500\n"
     ]
    }
   ],
   "source": [
    "Loan = int(input(\"Type requested loan amount: \"))\n"
   ]
  },
  {
   "cell_type": "code",
   "execution_count": 20,
   "metadata": {
    "scrolled": true
   },
   "outputs": [],
   "source": [
    "interest_rate = 0.10"
   ]
  },
  {
   "cell_type": "code",
   "execution_count": 28,
   "metadata": {},
   "outputs": [
    {
     "name": "stdout",
     "output_type": "stream",
     "text": [
      "Interest to be paid: 50.00 cedis\n",
      "\n",
      "\n",
      "For a loan of 500 cedis, Customer will pay back 550.00 cedis\n",
      "\n",
      "\n"
     ]
    }
   ],
   "source": [
    "calc1 = float(Loan) * interest_rate\n",
    "print(\"Interest to be paid: \"+ (\"%.2f\" % calc1)+ \" cedis\")\n",
    "print(\"\\n\")\n",
    "calc = float(Loan) + calc1\n",
    "print(\"For a loan of \"+ str(Loan)+\" cedis, Customer will pay back \" + (\"%.2f\" %calc) + \" cedis\")\n",
    "print(\"\\n\")"
   ]
  },
  {
   "cell_type": "markdown",
   "metadata": {},
   "source": [
    "Rate percentage between 0.01 and 0.05%"
   ]
  },
  {
   "cell_type": "code",
   "execution_count": 35,
   "metadata": {},
   "outputs": [],
   "source": [
    "Loan2 = [100,200,350,500]"
   ]
  },
  {
   "cell_type": "code",
   "execution_count": 32,
   "metadata": {},
   "outputs": [
    {
     "data": {
      "text/plain": [
       "array([0.01, 0.02, 0.03, 0.04, 0.05])"
      ]
     },
     "execution_count": 32,
     "metadata": {},
     "output_type": "execute_result"
    }
   ],
   "source": [
    "interest_rate = np.arange(0.01,0.06,0.01)\n",
    "interest_rate"
   ]
  },
  {
   "cell_type": "code",
   "execution_count": 33,
   "metadata": {},
   "outputs": [
    {
     "name": "stdout",
     "output_type": "stream",
     "text": [
      "100\n",
      "\n",
      "\n",
      "For 100 cedis, at 0.01%, Customer will pay back =101.0 cedis\n",
      "\n",
      "\n",
      "For 100 cedis, at 0.02%, Customer will pay back =102.0 cedis\n",
      "\n",
      "\n",
      "For 100 cedis, at 0.03%, Customer will pay back =103.0 cedis\n",
      "\n",
      "\n",
      "For 100 cedis, at 0.04%, Customer will pay back =104.0 cedis\n",
      "\n",
      "\n",
      "For 100 cedis, at 0.05%, Customer will pay back =105.0 cedis\n",
      "\n",
      "\n",
      "200\n",
      "\n",
      "\n",
      "For 200 cedis, at 0.01%, Customer will pay back =202.0 cedis\n",
      "\n",
      "\n",
      "For 200 cedis, at 0.02%, Customer will pay back =204.0 cedis\n",
      "\n",
      "\n",
      "For 200 cedis, at 0.03%, Customer will pay back =206.0 cedis\n",
      "\n",
      "\n",
      "For 200 cedis, at 0.04%, Customer will pay back =208.0 cedis\n",
      "\n",
      "\n",
      "For 200 cedis, at 0.05%, Customer will pay back =210.0 cedis\n",
      "\n",
      "\n",
      "350\n",
      "\n",
      "\n",
      "For 350 cedis, at 0.01%, Customer will pay back =353.5 cedis\n",
      "\n",
      "\n",
      "For 350 cedis, at 0.02%, Customer will pay back =357.0 cedis\n",
      "\n",
      "\n",
      "For 350 cedis, at 0.03%, Customer will pay back =360.5 cedis\n",
      "\n",
      "\n",
      "For 350 cedis, at 0.04%, Customer will pay back =364.0 cedis\n",
      "\n",
      "\n",
      "For 350 cedis, at 0.05%, Customer will pay back =367.5 cedis\n",
      "\n",
      "\n",
      "500\n",
      "\n",
      "\n",
      "For 500 cedis, at 0.01%, Customer will pay back =505.0 cedis\n",
      "\n",
      "\n",
      "For 500 cedis, at 0.02%, Customer will pay back =510.0 cedis\n",
      "\n",
      "\n",
      "For 500 cedis, at 0.03%, Customer will pay back =515.0 cedis\n",
      "\n",
      "\n",
      "For 500 cedis, at 0.04%, Customer will pay back =520.0 cedis\n",
      "\n",
      "\n",
      "For 500 cedis, at 0.05%, Customer will pay back =525.0 cedis\n",
      "\n",
      "\n"
     ]
    }
   ],
   "source": [
    "for i in Loan2:\n",
    "    print(str(i))\n",
    "    print(\"\\n\")\n",
    "    for j in interest_rate:\n",
    "        calc = i+(j *i)\n",
    "        print(\"For \"+str(i)+\" cedis, at \"+str(j)+\"%, Customer will pay back\"+\" =\"+ str(calc)+\" cedis\")\n",
    "        print(\"\\n\")\n"
   ]
  },
  {
   "cell_type": "code",
   "execution_count": 17,
   "metadata": {},
   "outputs": [],
   "source": [
    "Loan = [100,200,350,500]\n",
    "interest_rate = [.10]"
   ]
  },
  {
   "cell_type": "code",
   "execution_count": 18,
   "metadata": {},
   "outputs": [
    {
     "name": "stdout",
     "output_type": "stream",
     "text": [
      "100\n",
      "\n",
      "\n",
      "For 100 cedis, at 0.1%, Customer will pay back =110.0 cedis\n",
      "\n",
      "\n",
      "200\n",
      "\n",
      "\n",
      "For 200 cedis, at 0.1%, Customer will pay back =220.0 cedis\n",
      "\n",
      "\n",
      "350\n",
      "\n",
      "\n",
      "For 350 cedis, at 0.1%, Customer will pay back =385.0 cedis\n",
      "\n",
      "\n",
      "500\n",
      "\n",
      "\n",
      "For 500 cedis, at 0.1%, Customer will pay back =550.0 cedis\n",
      "\n",
      "\n"
     ]
    }
   ],
   "source": [
    "for i in Loan:\n",
    "    print(str(i))\n",
    "    print(\"\\n\")\n",
    "    for j in interest_rate:\n",
    "        calc = i+(j *i)\n",
    "        print(\"For \"+str(i)+\" cedis, at \"+str(j)+\"%, Customer will pay back\"+\" =\"+ str(calc)+\" cedis\")\n",
    "        print(\"\\n\")"
   ]
  },
  {
   "cell_type": "code",
   "execution_count": null,
   "metadata": {},
   "outputs": [],
   "source": []
  }
 ],
 "metadata": {
  "kernelspec": {
   "display_name": "Python 3",
   "language": "python",
   "name": "python3"
  },
  "language_info": {
   "codemirror_mode": {
    "name": "ipython",
    "version": 3
   },
   "file_extension": ".py",
   "mimetype": "text/x-python",
   "name": "python",
   "nbconvert_exporter": "python",
   "pygments_lexer": "ipython3",
   "version": "3.8.5"
  }
 },
 "nbformat": 4,
 "nbformat_minor": 4
}
